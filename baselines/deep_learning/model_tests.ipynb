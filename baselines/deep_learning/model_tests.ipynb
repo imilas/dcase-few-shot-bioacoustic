{
 "cells": [
  {
   "cell_type": "code",
   "execution_count": 1,
   "id": "8780841d",
   "metadata": {},
   "outputs": [],
   "source": [
    "import h5py\n",
    "import numpy as np\n",
    "from collections import Counter\n",
    "from sklearn.model_selection import train_test_split\n",
    "import imblearn\n",
    "from imblearn.over_sampling import SMOTE\n",
    "from imblearn.over_sampling import RandomOverSampler\n",
    "import os\n",
    "import warnings\n",
    "import yaml\n",
    "import argparse\n",
    "import pandas as pd\n",
    "import csv\n",
    "import os\n",
    "import pandas as pd\n",
    "from Feature_extract import feature_transform\n",
    "from Datagenerator import Datagen\n",
    "import numpy as np\n",
    "import torch\n",
    "from torch.utils.data import DataLoader\n",
    "from Model import ProtoNet,ResNet\n",
    "from tqdm import tqdm\n",
    "from collections import Counter\n",
    "from batch_sampler import EpisodicBatchSampler\n",
    "from torch.nn import functional as F\n",
    "from util import prototypical_loss as loss_fn\n",
    "from util import evaluate_prototypes\n",
    "from glob import glob\n",
    "import hydra\n",
    "from hydra import initialize, initialize_config_module, initialize_config_dir, compose\n",
    "from omegaconf import DictConfig, OmegaConf\n",
    "import pathlib\n",
    "import pprint\n",
    "hydra.core.global_hydra.GlobalHydra.instance().clear()\n",
    "import gc\n",
    "gc.collect()\n",
    "torch.cuda.empty_cache()\n",
    "\n",
    "config_dir = pathlib.Path('.')\n",
    "hydra.initialize(config_path=config_dir)\n",
    "\n",
    "conf = hydra.compose(config_name='config_online.yaml', overrides=[\"set.train=True\",])\n",
    "\n",
    "def init_seed():\n",
    "    torch.manual_seed(0)\n",
    "    torch.cuda.manual_seed(0)"
   ]
  },
  {
   "cell_type": "code",
   "execution_count": null,
   "id": "37fcc077",
   "metadata": {},
   "outputs": [],
   "source": []
  }
 ],
 "metadata": {
  "kernelspec": {
   "display_name": "Python 3 (ipykernel)",
   "language": "python",
   "name": "python3"
  },
  "language_info": {
   "codemirror_mode": {
    "name": "ipython",
    "version": 3
   },
   "file_extension": ".py",
   "mimetype": "text/x-python",
   "name": "python",
   "nbconvert_exporter": "python",
   "pygments_lexer": "ipython3",
   "version": "3.8.12"
  }
 },
 "nbformat": 4,
 "nbformat_minor": 5
}
